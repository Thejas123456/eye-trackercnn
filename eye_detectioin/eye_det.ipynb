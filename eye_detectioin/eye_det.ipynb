{
 "cells": [
  {
   "cell_type": "code",
   "execution_count": 10,
   "metadata": {},
   "outputs": [
    {
     "name": "stdout",
     "output_type": "stream",
     "text": [
      "Total number of samples: 1847\n",
      "Label of the first sample: 1\n",
      "Shape of the first image tensor: torch.Size([3, 100, 100])\n"
     ]
    }
   ],
   "source": [
    "import torch\n",
    "from torchvision import datasets, transforms\n",
    "from torch.utils.data import Dataset\n",
    "from PIL import Image\n",
    "import os\n",
    "device = torch.device(\"cuda\" if torch.cuda.is_available() else \"cpu\")\n",
    "# Define transformations to apply to images\n",
    "transform = transforms.Compose([\n",
    "    transforms.Resize((100, 100)),  # Resize images to a fixed size\n",
    "    transforms.ToTensor(),           # Convert images to PyTorch tensors\n",
    "])\n",
    "\n",
    "class CustomDataset(Dataset):\n",
    "    def __init__(self, root, transform=None):\n",
    "        self.root = root\n",
    "        self.transform = transform\n",
    "        self.img_paths = []\n",
    "        self.labels = []\n",
    "\n",
    "        # Load images from the 'eyes' folder and assign label 0\n",
    "        eyes_folder = os.path.join(root, \"eyes\")\n",
    "        eyes_images = os.listdir(eyes_folder)\n",
    "        self.img_paths.extend([os.path.join(eyes_folder, img) for img in eyes_images])\n",
    "        self.labels.extend([0] * len(eyes_images))\n",
    "\n",
    "        # Load images from the 'no_eyes' folder and assign label 1\n",
    "        no_eyes_folder = os.path.join(root, \"no_eyes\")\n",
    "        no_eyes_images = os.listdir(no_eyes_folder)\n",
    "        self.img_paths.extend([os.path.join(no_eyes_folder, img) for img in no_eyes_images])\n",
    "        self.labels.extend([1] * len(no_eyes_images))\n",
    "\n",
    "    def __len__(self):\n",
    "        return len(self.img_paths)\n",
    "\n",
    "    def __getitem__(self, idx):\n",
    "        img_path = self.img_paths[idx]\n",
    "        label = self.labels[idx]\n",
    "\n",
    "        img = Image.open(img_path).convert(\"RGB\")\n",
    "        if self.transform:\n",
    "            img = self.transform(img)\n",
    "\n",
    "        return img, label\n",
    "\n",
    "# Define paths to the root folder containing 'eyes' and 'no_eyes' subfolders\n",
    "root_folder = \"\"\n",
    "\n",
    "# Create a custom dataset\n",
    "dataset = CustomDataset(root_folder, transform=transform)\n",
    "\n",
    "# Check the number of samples in the dataset\n",
    "print(\"Total number of samples:\", len(dataset))\n",
    "\n",
    "# Check the label of the first sample\n",
    "print(\"Label of the first sample:\", dataset[900][1])\n",
    "\n",
    "# Check the shape of the first image tensor\n",
    "print(\"Shape of the first image tensor:\", dataset[0][0].shape)\n"
   ]
  },
  {
   "cell_type": "code",
   "execution_count": 13,
   "metadata": {},
   "outputs": [],
   "source": [
    "import torch\n",
    "import torch.nn as nn\n",
    "import torch.optim as optim\n",
    "from torch.utils.data import DataLoader\n",
    "from torchvision import datasets, transforms\n",
    "\n",
    "# Define the CNN architecture\n",
    "class CNN(nn.Module):\n",
    "    def __init__(self):\n",
    "        super(CNN, self).__init__()\n",
    "        self.conv1 = nn.Conv2d(in_channels=3, out_channels=32, kernel_size=3, stride=1, padding=1)\n",
    "        self.conv2 = nn.Conv2d(in_channels=32, out_channels=64, kernel_size=3, stride=1, padding=1)\n",
    "        self.pool = nn.MaxPool2d(kernel_size=2, stride=2, padding=0)\n",
    "        self.fc1 = nn.Linear(64 * 25 * 25, 128)\n",
    "        self.fc2 = nn.Linear(128, 2)  # Output layer with 2 classes: eye or no_eye\n",
    "\n",
    "    def forward(self, x):\n",
    "        x = self.pool(nn.functional.relu(self.conv1(x)))\n",
    "        x = self.pool(nn.functional.relu(self.conv2(x)))\n",
    "        x = torch.flatten(x, 1)\n",
    "        x = nn.functional.relu(self.fc1(x))\n",
    "        x = self.fc2(x)\n",
    "        return x\n",
    "\n",
    "# Define transformations to apply to images\n",
    "transform = transforms.Compose([\n",
    "    transforms.Resize((100, 100)),  # Resize images to a fixed size\n",
    "    transforms.ToTensor(),           # Convert images to PyTorch tensors\n",
    "])\n",
    "\n",
    "# Define paths to the root folder containing 'eyes' and 'no_eyes' subfolders\n",
    "root_folder = \"\"\n",
    "\n",
    "# Create a custom dataset\n",
    "dataset = CustomDataset(root_folder, transform=transform)\n",
    "\n",
    "# Split the dataset into training and validation sets\n",
    "train_size = int(1 * len(dataset))\n",
    "val_size = len(dataset) - train_size\n",
    "train_dataset, val_dataset = torch.utils.data.random_split(dataset, [train_size, val_size])\n",
    "\n",
    "# Create data loaders\n",
    "train_loader = DataLoader(train_dataset, batch_size=1, shuffle=True)\n",
    "val_loader = DataLoader(val_dataset, batch_size=1)\n",
    "\n",
    "# Initialize the model\n",
    "model = CNN().to(device)\n",
    "\n",
    "# Define the loss function and optimizer\n",
    "criterion = nn.CrossEntropyLoss()\n",
    "optimizer = optim.Adam(model.parameters(), lr=0.001)"
   ]
  },
  {
   "cell_type": "code",
   "execution_count": 14,
   "metadata": {},
   "outputs": [
    {
     "name": "stdout",
     "output_type": "stream",
     "text": [
      "Epoch [1/10], Loss: 0.1250\n",
      "Epoch [2/10], Loss: 0.0258\n",
      "Epoch [3/10], Loss: 0.0333\n",
      "Epoch [4/10], Loss: 0.0140\n",
      "Epoch [5/10], Loss: 0.0509\n",
      "Epoch [6/10], Loss: 0.0437\n",
      "Epoch [7/10], Loss: 0.0006\n",
      "Epoch [8/10], Loss: 0.0001\n",
      "Epoch [9/10], Loss: 0.0000\n",
      "Epoch [10/10], Loss: 0.0000\n"
     ]
    }
   ],
   "source": [
    "num_epochs = 10\n",
    "for epoch in range(num_epochs):\n",
    "    model.train()\n",
    "    running_loss = 0.0\n",
    "    for images, labels in train_loader:\n",
    "        images, labels = images.to(device), labels.to(device)  # Move data to GPU\n",
    "        optimizer.zero_grad()\n",
    "        outputs = model(images)\n",
    "        loss = criterion(outputs, labels)\n",
    "        loss.backward()\n",
    "        optimizer.step()\n",
    "        running_loss += loss.item()\n",
    "    print(f\"Epoch [{epoch+1}/{num_epochs}], Loss: {running_loss / len(train_loader):.4f}\")\n"
   ]
  },
  {
   "cell_type": "code",
   "execution_count": 21,
   "metadata": {},
   "outputs": [
    {
     "name": "stdout",
     "output_type": "stream",
     "text": [
      "Model Output:\n",
      "tensor([[ 11.4857, -18.0972]], device='cuda:0')\n",
      "eyes detected\n"
     ]
    }
   ],
   "source": [
    "image_path = \"../val_frames/10.jpg\"\n",
    "image = Image.open(image_path)\n",
    "\n",
    "# Preprocess the image\n",
    "input_image = transform(image).unsqueeze(0)\n",
    "with torch.no_grad():\n",
    "    model.eval()  # Set the model to evaluation mode\n",
    "    output = model(input_image.to(device))\n",
    "\n",
    "# Print the output\n",
    "print(\"Model Output:\")\n",
    "print(output)\n",
    "if(output[0][0] > output[0][1]):\n",
    "    print(\"eyes detected\")\n",
    "else:\n",
    "    print(\"no eyes\")"
   ]
  },
  {
   "cell_type": "code",
   "execution_count": null,
   "metadata": {},
   "outputs": [],
   "source": [
    "# Save the trained model\n",
    "torch.save(model.state_dict(), \"eye_det_model.pth\")\n"
   ]
  }
 ],
 "metadata": {
  "kernelspec": {
   "display_name": "ultra",
   "language": "python",
   "name": "python3"
  },
  "language_info": {
   "codemirror_mode": {
    "name": "ipython",
    "version": 3
   },
   "file_extension": ".py",
   "mimetype": "text/x-python",
   "name": "python",
   "nbconvert_exporter": "python",
   "pygments_lexer": "ipython3",
   "version": "3.10.10"
  }
 },
 "nbformat": 4,
 "nbformat_minor": 2
}
